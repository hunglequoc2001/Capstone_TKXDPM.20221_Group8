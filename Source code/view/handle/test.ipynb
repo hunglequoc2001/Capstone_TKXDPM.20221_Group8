{
 "cells": [
  {
   "cell_type": "code",
   "execution_count": 34,
   "metadata": {},
   "outputs": [],
   "source": [
    "from mysql.connector import connect\n",
    "from random import randint,choice,sample"
   ]
  },
  {
   "cell_type": "code",
   "execution_count": 31,
   "metadata": {},
   "outputs": [],
   "source": [
    "mydb=connect(\n",
    "            host=\"localhost\",\n",
    "            user=\"root\",\n",
    "            password=\"\",\n",
    "            database=\"ecobike\"\n",
    "        )"
   ]
  },
  {
   "cell_type": "code",
   "execution_count": 32,
   "metadata": {},
   "outputs": [],
   "source": [
    "cursor=mydb.cursor()\n"
   ]
  },
  {
   "cell_type": "code",
   "execution_count": null,
   "metadata": {},
   "outputs": [],
   "source": [
    "sql_query=\"INSERT INTO xe(maXe,bienSoXe,loaiXe,luongPin,giaTriXe,hangXe) VALUES ('[value-1]','[value-2]','[value-3]','[value-4]','[value-5]','[value-6]')\""
   ]
  },
  {
   "cell_type": "code",
   "execution_count": null,
   "metadata": {},
   "outputs": [],
   "source": [
    "cursor.execute(sql_query)\n",
    "mydb.commit()"
   ]
  },
  {
   "cell_type": "code",
   "execution_count": 4,
   "metadata": {},
   "outputs": [
    {
     "name": "stdout",
     "output_type": "stream",
     "text": [
      "05S-00152\n"
     ]
    }
   ],
   "source": [
    "a=5\n",
    "b='S'\n",
    "c=152\n",
    "print(f\"{a:0>2d}{b}-{c:0>5d}\")"
   ]
  },
  {
   "cell_type": "code",
   "execution_count": 12,
   "metadata": {},
   "outputs": [],
   "source": [
    "def randomBienSoXe():\n",
    "    a=randint(0,99)\n",
    "    b=chr(randint(ord('A'),ord('Z')))\n",
    "    c=randint(0,99999)\n",
    "    return f\"{a:0>2d}{b}-{c:0>5d}\""
   ]
  },
  {
   "cell_type": "code",
   "execution_count": 25,
   "metadata": {},
   "outputs": [],
   "source": [
    "st=set()\n",
    "while len(st)<200:\n",
    "    st.add(randomBienSoXe())"
   ]
  },
  {
   "cell_type": "code",
   "execution_count": 26,
   "metadata": {},
   "outputs": [],
   "source": [
    "dsbienSoXe=list(st)"
   ]
  },
  {
   "cell_type": "code",
   "execution_count": 28,
   "metadata": {},
   "outputs": [],
   "source": [
    "dsloai=['xe đạp đơn','xe đạp đôi','xe đạp điện đơn','xe đạp điện đôi']\n",
    "giaXe=[1000000,1200000,1500000,2000000]\n",
    "HANGXe=['Meride','Trek','Specialized','Cannondale','Kona','Scott','Santa Cruz','Marin','GT','Giant','Romance']\n",
    "HANGXEDIEN=['Asama','BMX','Bridgestone','Giant','Yamaha','HKbike','Hyundai','Nijia','Honda']"
   ]
  },
  {
   "cell_type": "code",
   "execution_count": 33,
   "metadata": {},
   "outputs": [],
   "source": [
    "for i in range(200):\n",
    "    maxe=20230006+i\n",
    "    bienSoXe=dsbienSoXe[i]\n",
    "    j=randint(0,3)\n",
    "    loaixe=dsloai[j]\n",
    "    if j<2:\n",
    "        luongpin=0\n",
    "        hangxe=choice(HANGXe)\n",
    "    else:\n",
    "        luongpin=randint(60,100)\n",
    "        hangxe=choice(HANGXEDIEN)\n",
    "    giatrixe=giaXe[j]\n",
    "    sql_query=f\"INSERT INTO xe(maXe, bienSoXe, loaiXe, luongPin, giaTriXe, hangXe) VALUES ({maxe},'{bienSoXe}','{loaixe}',{luongpin},{giatrixe},'{hangxe}')\"\n",
    "    cursor.execute(sql_query)\n",
    "    mydb.commit()"
   ]
  },
  {
   "cell_type": "code",
   "execution_count": null,
   "metadata": {},
   "outputs": [],
   "source": [
    "dsmaXe=sample([i for i in])"
   ]
  },
  {
   "cell_type": "code",
   "execution_count": 36,
   "metadata": {},
   "outputs": [],
   "source": [
    "ten=set(\"Nguyễn Văn Tâm, Phạm Văn Hiệp, Nguyễn Văn Hậu, Lê Văn Phước, Trần Văn Sơn, Trần Văn Hoàng, Nguyễn Văn Phúc, Nguyễn Văn Thành, Trần Văn Hưng, Lê Văn Trọng, Trần Thị Thanh, Nguyễn Thị Thảo, Phạm Thị Minh, Lê Thị Hoài, Lê Thị Thu, Nguyễn Thị Ngọc, Trần Thị Hồng, Nguyễn Thị Miêu, Phạm Thị Thuý, Trần Thị Huyền, Nguyễn Văn Tài, Nguyễn Thị Phương, Nguyễn Thị Thu, Trần Thị Thuỳ, Nguyễn Hồng Nhung, Nguyễn Văn Nhật, Trần Thị Phương Anh, Nguyễn Văn Tú, Trần Hoàng Thịnh, Nguyễn Văn Phú, Nguyễn Vũ Thịnh, Nguyễn Thị Mỹ, Nguyễn Thị Thu Hiền, Lê Thị Phương, Nguyễn Thị Hằng, Phạm Văn Lâm, Trần Thị Ngọc Hạnh, Trần Thị Thanh Bình, Trần Văn Hải, Trần Văn Lực, Nguyễn Thị Ngọc Trang, Lê Thị Tuyết, Trần Văn Bảo, Nguyễn Vũ Thịnh, Trần Thị Phương Thảo, Trần Thị Nhung, Lê Thị Thu Hà, Nguyễn Văn Lộc, Nguyễn Văn Trọng, Phạm Văn Tuấn, Trần Thị Thanh, Nguyễn Thị Tuyết, Trần Văn Cường, Nguyễn Văn Thắng, Nguyễn Thị Kim Anh, Trần Văn Phong, Nguyễn Văn Tiến, Nguyễn Văn Hiền, Nguyễn Thị Ngọc Anh, Trần Thị Phương Thảo, Nguyễn Thị Thu Thảo, Trần Văn Quang, Nguyễn Thị Phượng, Trần Văn Thạch, Trần Thị Thu, Trần Văn Bằng, Nguyễn Văn Hải, Nguyễn Văn Hùng, Trần Văn Đức, Nguyễn Văn Dũng, Nguyễn Văn Hậu, Nguyễn Thị Huyền, Nguyễn Văn Hải, Nguyễn Thị Hương, Trần Văn Đạt, Trần Văn Đức, Lê Thị Hồng, Trần Hoàng Thịnh, Lê Văn Thịnh, Nguyễn Văn Tường, Phạm Thị Thu Hà, Trần Thị Nhàn, Nguyễn Văn Thông, Nguyễn Văn Thịnh, Trần Văn Phúc, Lê Văn Thuận, Trần Văn Nghĩa\".split(\", \"))"
   ]
  },
  {
   "cell_type": "code",
   "execution_count": 38,
   "metadata": {},
   "outputs": [
    {
     "data": {
      "text/plain": [
       "80"
      ]
     },
     "execution_count": 38,
     "metadata": {},
     "output_type": "execute_result"
    }
   ],
   "source": [
    "len(ten)"
   ]
  },
  {
   "cell_type": "code",
   "execution_count": 39,
   "metadata": {},
   "outputs": [],
   "source": [
    "a=\"\"\"Huỳnh Hữu Tấn\n",
    "Trần Tuấn Khải\n",
    "Nguyễn Văn Sơn\n",
    "Vũ Tấn Phát\n",
    "Đinh Hồng Quân\n",
    "Lê Hoàng Thịnh\n",
    "Ngô Đình Phong\n",
    "Phan Quốc Thịnh\n",
    "Nguyễn Thị Diệu\n",
    "Võ Thị Lầm\n",
    "Bùi Minh Hải\n",
    "Đỗ Quang Huy\n",
    "Nguyễn Quang Nhật\n",
    "Lê Đình Minh\n",
    "Đỗ Thị Ngân\n",
    "Trần Đình Phong\n",
    "Trần Văn Nhật\n",
    "Lý Trần Tuấn\n",
    "Đoàn Phạm Anh\n",
    "Lữ Toàn Quân\n",
    "Nguyễn Thị Hồng\n",
    "Phạm Thu Hiền\n",
    "Nguyễn Thị Thanh\n",
    "Lê Thị Minh\n",
    "Trần Thị Thanh\n",
    "Cao Thị Nga\n",
    "Hoàng Thị Tuyết\n",
    "Trần Thị Hồng\n",
    "Nguyễn Thị Hoàng\n",
    "Nguyễn Thị Quyên\n",
    "Hoàng Thị Nhàn\n",
    "Trần Thị Tuyết\n",
    "Nguyễn Thị Tuyết\n",
    "Ngô Thị Thùy\n",
    "Nguyễn Thị Hạnh\n",
    "Hồ Thị Thu\n",
    "Trần Thị Kỳ\n",
    "Trần Thị Ngọc\n",
    "Lê Thị Hồng\n",
    "Nguyễn Thị Thu\n",
    "\"\"\""
   ]
  },
  {
   "cell_type": "code",
   "execution_count": 41,
   "metadata": {},
   "outputs": [],
   "source": [
    "for _ in a.splitlines():\n",
    "    ten.add(_) "
   ]
  },
  {
   "cell_type": "code",
   "execution_count": 44,
   "metadata": {},
   "outputs": [],
   "source": [
    "ten=list(ten)\n",
    "maXe=sample([i+20230006 for i in range(200)],len(ten))"
   ]
  },
  {
   "cell_type": "code",
   "execution_count": 47,
   "metadata": {},
   "outputs": [],
   "source": [
    "maThe=sample(range(10**11,10**12),len(ten))"
   ]
  },
  {
   "cell_type": "code",
   "execution_count": 49,
   "metadata": {},
   "outputs": [],
   "source": [
    "for x,y,z in zip(maXe,maThe,ten):\n",
    "    time=f'2023-02-{randint(1,20)} {randint(0,23)}:{randint(0,59)}:00'    \n",
    "    sql_query=f\"INSERT INTO xe_dang_duoc_thue(maXe, maThe, nguoiThueXe, phuongThucThueXe, thoiDiemThue, noiThueXe) VALUES ('{x}','{y}','{z}',{randint(0,1)},'{time}',{randint(1,4)})\"\n",
    "    cursor.execute(sql_query)\n",
    "    mydb.commit()"
   ]
  }
 ],
 "metadata": {
  "kernelspec": {
   "display_name": "venv",
   "language": "python",
   "name": "python3"
  },
  "language_info": {
   "codemirror_mode": {
    "name": "ipython",
    "version": 3
   },
   "file_extension": ".py",
   "mimetype": "text/x-python",
   "name": "python",
   "nbconvert_exporter": "python",
   "pygments_lexer": "ipython3",
   "version": "3.9.0"
  },
  "orig_nbformat": 4,
  "vscode": {
   "interpreter": {
    "hash": "c372cddf72a632878039c3ae53bb6ad57e03defd302513ca8de0ad7083c60e82"
   }
  }
 },
 "nbformat": 4,
 "nbformat_minor": 2
}
